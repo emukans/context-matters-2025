{
 "cells": [
  {
   "cell_type": "code",
   "execution_count": 28,
   "id": "59b8d84b-e63e-4a7c-aa14-e784c46ab45b",
   "metadata": {},
   "outputs": [
    {
     "data": {
      "text/plain": [
       "DatasetDict({\n",
       "    train: Dataset({\n",
       "        features: ['idx', 'tokens', 'ner_tags'],\n",
       "        num_rows: 18185\n",
       "    })\n",
       "    dev: Dataset({\n",
       "        features: ['idx', 'tokens', 'ner_tags'],\n",
       "        num_rows: 965\n",
       "    })\n",
       "})"
      ]
     },
     "execution_count": 28,
     "metadata": {},
     "output_type": "execute_result"
    }
   ],
   "source": [
    "from datasets import Dataset, load_from_disk\n",
    "import evaluate\n",
    "\n",
    "\n",
    "\n",
    "dataset_name = '2024_gpt35_span'\n",
    "\n",
    "seqeval = evaluate.load(\"seqeval\")\n",
    "dataset = load_from_disk(f'../data/{dataset_name}')\n",
    "dataset"
   ]
  },
  {
   "cell_type": "code",
   "execution_count": 29,
   "id": "0ee54902-9a24-4b3d-a03d-90a35d2e63a5",
   "metadata": {},
   "outputs": [
    {
     "data": {
      "text/plain": [
       "{'ADE': {'precision': 0.08365758754863813,\n",
       "  'recall': 0.524390243902439,\n",
       "  'f1': 0.1442953020134228,\n",
       "  'number': 82},\n",
       " 'overall_precision': 0.08365758754863813,\n",
       " 'overall_recall': 0.524390243902439,\n",
       " 'overall_f1': 0.1442953020134228,\n",
       " 'overall_accuracy': 0.9373234557373554}"
      ]
     },
     "execution_count": 29,
     "metadata": {},
     "output_type": "execute_result"
    }
   ],
   "source": [
    "import re\n",
    "\n",
    "\n",
    "label_list = dataset[\"train\"].features[f\"ner_tags\"].feature.names\n",
    "\n",
    "true_labels = [[label_list[a] for a in entry if a not in (-100, 3)] for entry in dataset['dev']['ner_tags']]\n",
    "\n",
    "predicted = []\n",
    "for entry in dataset['dev']['ner_tags']:\n",
    "    reduced = ''.join([str(a) for a in entry])\n",
    "    reduced = re.sub(r'3{3}', '3', reduced)\n",
    "    reduced = [int(a) for a in reduced]\n",
    "    \n",
    "    result = []\n",
    "    next_token = 0\n",
    "    for a in reduced:\n",
    "        if a == 3:\n",
    "            if next_token == 0:\n",
    "                next_token = 1\n",
    "            else:\n",
    "                next_token = 0\n",
    "                \n",
    "            continue\n",
    "\n",
    "        result.append(next_token)\n",
    "        \n",
    "        if next_token == 1:\n",
    "            next_token = 2\n",
    "\n",
    "    predicted.append(result)\n",
    "    \n",
    "predicted = [[label_list[a] for a in entry] for entry in predicted]\n",
    "seqeval.compute(predictions=predicted, references=true_labels)"
   ]
  }
 ],
 "metadata": {
  "kernelspec": {
   "display_name": "Python 3 (ipykernel)",
   "language": "python",
   "name": "python3"
  },
  "language_info": {
   "codemirror_mode": {
    "name": "ipython",
    "version": 3
   },
   "file_extension": ".py",
   "mimetype": "text/x-python",
   "name": "python",
   "nbconvert_exporter": "python",
   "pygments_lexer": "ipython3",
   "version": "3.11.8"
  }
 },
 "nbformat": 4,
 "nbformat_minor": 5
}
